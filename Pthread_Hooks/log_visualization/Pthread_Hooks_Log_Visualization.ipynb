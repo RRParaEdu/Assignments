{
  "nbformat": 4,
  "nbformat_minor": 0,
  "metadata": {
    "colab": {
      "provenance": [],
      "collapsed_sections": [
        "WYUT1TZ3R0fF"
      ],
      "authorship_tag": "ABX9TyMEcFCrKP3/++DZJFwbsnUQ",
      "include_colab_link": true
    },
    "kernelspec": {
      "name": "python3",
      "display_name": "Python 3"
    },
    "language_info": {
      "name": "python"
    }
  },
  "cells": [
    {
      "cell_type": "markdown",
      "metadata": {
        "id": "view-in-github",
        "colab_type": "text"
      },
      "source": [
        "<a href=\"https://colab.research.google.com/github/RRParaEdu/Assignments/blob/main/Pthread_Hooks/log_visualization/Pthread_Hooks_Log_Visualization.ipynb\" target=\"_parent\"><img src=\"https://colab.research.google.com/assets/colab-badge.svg\" alt=\"Open In Colab\"/></a>"
      ]
    },
    {
      "cell_type": "markdown",
      "source": [
        "# Setup\n",
        "\n",
        "Run this once before visualizing log"
      ],
      "metadata": {
        "id": "WYUT1TZ3R0fF"
      }
    },
    {
      "cell_type": "code",
      "execution_count": 65,
      "metadata": {
        "id": "bVWXBJ-iy1Kf"
      },
      "outputs": [],
      "source": [
        "import pandas as pd\n",
        "import textwrap"
      ]
    },
    {
      "cell_type": "code",
      "source": [
        "def parse_log(file_name):\n",
        "  f = open(file_name, 'r')\n",
        "\n",
        "  # read and parse the log file\n",
        "  logs = []\n",
        "  threads = []\n",
        "  for line in f:\n",
        "    try:\n",
        "      timestamp = int(line.split(' ')[1])\n",
        "      thread_id = int(line.split(' ')[3].rstrip(':'))\n",
        "      message = ' '.join(line.rstrip('\\n').split(' ')[4:])\n",
        "      logs.append({\"timestamp\":timestamp,\"tid\":thread_id,\"message\":message})\n",
        "\n",
        "      if not (thread_id in threads):\n",
        "        threads.append(thread_id)\n",
        "    except e:\n",
        "      continue; #skip bad lines\n",
        "\n",
        "\n",
        "  threads = sorted(threads)\n",
        "  #print(logs)\n",
        "  #print(threads)\n",
        "\n",
        "  # constructed the list of logs by threads\n",
        "  header_row = ['timestamp'] +  [ \"th \" + str(t) for t in threads]\n",
        "  rows = []\n",
        "  for l in logs:\n",
        "    message = l[\"message\"]\n",
        "    timestamp = l[\"timestamp\"]\n",
        "    thread_id = l['tid']\n",
        "    row = [timestamp]\n",
        "    for t in threads:\n",
        "        if thread_id == t:\n",
        "            row.append('<br/>'.join(textwrap.wrap(message,width=20)))\n",
        "            #row.append(message.wrap(20))\n",
        "        else:\n",
        "            row.append(\"\")\n",
        "    rows.append(row)\n",
        "\n",
        "  #print(rows)\n",
        "\n",
        "  # convert to pandas dataframe\n",
        "  df = pd.DataFrame(rows, columns=header_row)\n",
        "  df.sort_values('timestamp', inplace = True)\n",
        "  df.reset_index(drop = True, inplace = True)\n",
        "  #pd.options.display.max_columns = len(df.columns)\n",
        "  #pd.set_option('display.max_colwidth', 10)\n",
        "  #print(tabulate(df,headers=list(df), tablefmt=\"grid\"))\n",
        "  #df.to_csv(\"log.csv\")\n",
        "  #df.style.hide(axis=\"index\")\n",
        "  #df.style.format({\"timestamp\":\"{:4d}\"})\n",
        "\n",
        "  return df\n",
        "\n",
        "def stylize(df):\n",
        "  heading_properties = [('font-size', '18px'),('background-color','#67c5a4'),('border-style','solid'),('border-width','1px')]\n",
        "\n",
        "  cell_properties = [('font-size', '16px'),('border-style','solid'),('border-width','1px'), ('text-align','left')]\n",
        "\n",
        "  row_theme = [(\"background-color\",\"lightblue\")]\n",
        "\n",
        "  dfstyle = [dict(selector=\"th\", props=heading_properties),\\\n",
        "      dict(selector=\"td\", props=cell_properties),\\\n",
        "           dict(selector=\"tbody tr:nth-child(even)\",props=row_theme)]\n",
        "\n",
        "  return df.style.set_table_styles(dfstyle)\n",
        "\n",
        "def visualized_log(file_name):\n",
        "  df = parse_log(file_name)\n",
        "  df_with_style = stylize(df)\n",
        "\n",
        "  return df_with_style"
      ],
      "metadata": {
        "id": "bFWT0xqt0otp"
      },
      "execution_count": 75,
      "outputs": []
    },
    {
      "cell_type": "markdown",
      "source": [
        "# Log Visualization"
      ],
      "metadata": {
        "id": "m8SbrHeyU4jr"
      }
    },
    {
      "cell_type": "markdown",
      "source": [
        "paste your log text here"
      ],
      "metadata": {
        "id": "DPDeR3a_VCsK"
      }
    },
    {
      "cell_type": "code",
      "source": [
        "%%writefile log.txt\n",
        "time 3197201329851 thread 77057: Main(): process start\n",
        "time 3197201696034 thread 77060: consumer thread 2 start\n",
        "time 3197201712881 thread 77060: mutex locked\n",
        "time 3197201717725 thread 77060: wait on cond\n",
        "time 3197201767225 thread 77059: producer thread 1 start\n",
        "time 3197201794224 thread 77059: mutex locked\n",
        "time 3197201800009 thread 77059: Two Produced\n",
        "time 3197201804625 thread 77061: consumer thread 3 start\n",
        "time 3197201822968 thread 77059: cond signal\n",
        "time 3197201829149 thread 77059: cond signal\n",
        "time 3197201838474 thread 77060: cond wait end\n",
        "time 3197201863448 thread 77060: consumed one\n",
        "time 3197201870209 thread 77060: mutex_unlocked\n",
        "time 3197201872523 thread 77060: consumer thread 2 end\n",
        "time 3197201842685 thread 77059: mutex unlocked\n",
        "time 3197201893073 thread 77059: producer thread 1 end\n",
        "time 3197201981876 thread 77061: mutex locked\n",
        "time 3197201996314 thread 77061: wait on cond"
      ],
      "metadata": {
        "colab": {
          "base_uri": "https://localhost:8080/"
        },
        "id": "wKv2SujN0fvd",
        "outputId": "557cce04-db2f-4dbb-82db-25e620c7747e"
      },
      "execution_count": 71,
      "outputs": [
        {
          "output_type": "stream",
          "name": "stdout",
          "text": [
            "Overwriting log.txt\n"
          ]
        }
      ]
    },
    {
      "cell_type": "markdown",
      "source": [
        "run the following to visualize the log as a table"
      ],
      "metadata": {
        "id": "l87I4AVkVHNG"
      }
    },
    {
      "cell_type": "code",
      "source": [
        "df = visualized_log(\"/content/log.txt\")\n",
        "df"
      ],
      "metadata": {
        "colab": {
          "base_uri": "https://localhost:8080/",
          "height": 895
        },
        "id": "Q0r3LG6b9mu5",
        "outputId": "c6cce034-dc92-4fca-f086-b9ae02cb9014"
      },
      "execution_count": 76,
      "outputs": [
        {
          "output_type": "execute_result",
          "data": {
            "text/plain": [
              "<pandas.io.formats.style.Styler at 0x790987cd1630>"
            ],
            "text/html": [
              "<style type=\"text/css\">\n",
              "#T_223ba th {\n",
              "  font-size: 18px;\n",
              "  background-color: #67c5a4;\n",
              "  border-style: solid;\n",
              "  border-width: 1px;\n",
              "}\n",
              "#T_223ba td {\n",
              "  font-size: 16px;\n",
              "  border-style: solid;\n",
              "  border-width: 1px;\n",
              "  text-align: left;\n",
              "}\n",
              "#T_223ba tbody tr:nth-child(even) {\n",
              "  background-color: lightblue;\n",
              "}\n",
              "</style>\n",
              "<table id=\"T_223ba\" class=\"dataframe\">\n",
              "  <thead>\n",
              "    <tr>\n",
              "      <th class=\"blank level0\" >&nbsp;</th>\n",
              "      <th id=\"T_223ba_level0_col0\" class=\"col_heading level0 col0\" >timestamp</th>\n",
              "      <th id=\"T_223ba_level0_col1\" class=\"col_heading level0 col1\" >th 77057</th>\n",
              "      <th id=\"T_223ba_level0_col2\" class=\"col_heading level0 col2\" >th 77059</th>\n",
              "      <th id=\"T_223ba_level0_col3\" class=\"col_heading level0 col3\" >th 77060</th>\n",
              "      <th id=\"T_223ba_level0_col4\" class=\"col_heading level0 col4\" >th 77061</th>\n",
              "    </tr>\n",
              "  </thead>\n",
              "  <tbody>\n",
              "    <tr>\n",
              "      <th id=\"T_223ba_level0_row0\" class=\"row_heading level0 row0\" >0</th>\n",
              "      <td id=\"T_223ba_row0_col0\" class=\"data row0 col0\" >3197201329851</td>\n",
              "      <td id=\"T_223ba_row0_col1\" class=\"data row0 col1\" >Main(): process<br/>start</td>\n",
              "      <td id=\"T_223ba_row0_col2\" class=\"data row0 col2\" ></td>\n",
              "      <td id=\"T_223ba_row0_col3\" class=\"data row0 col3\" ></td>\n",
              "      <td id=\"T_223ba_row0_col4\" class=\"data row0 col4\" ></td>\n",
              "    </tr>\n",
              "    <tr>\n",
              "      <th id=\"T_223ba_level0_row1\" class=\"row_heading level0 row1\" >1</th>\n",
              "      <td id=\"T_223ba_row1_col0\" class=\"data row1 col0\" >3197201696034</td>\n",
              "      <td id=\"T_223ba_row1_col1\" class=\"data row1 col1\" ></td>\n",
              "      <td id=\"T_223ba_row1_col2\" class=\"data row1 col2\" ></td>\n",
              "      <td id=\"T_223ba_row1_col3\" class=\"data row1 col3\" >consumer thread 2<br/>start</td>\n",
              "      <td id=\"T_223ba_row1_col4\" class=\"data row1 col4\" ></td>\n",
              "    </tr>\n",
              "    <tr>\n",
              "      <th id=\"T_223ba_level0_row2\" class=\"row_heading level0 row2\" >2</th>\n",
              "      <td id=\"T_223ba_row2_col0\" class=\"data row2 col0\" >3197201712881</td>\n",
              "      <td id=\"T_223ba_row2_col1\" class=\"data row2 col1\" ></td>\n",
              "      <td id=\"T_223ba_row2_col2\" class=\"data row2 col2\" ></td>\n",
              "      <td id=\"T_223ba_row2_col3\" class=\"data row2 col3\" >mutex locked</td>\n",
              "      <td id=\"T_223ba_row2_col4\" class=\"data row2 col4\" ></td>\n",
              "    </tr>\n",
              "    <tr>\n",
              "      <th id=\"T_223ba_level0_row3\" class=\"row_heading level0 row3\" >3</th>\n",
              "      <td id=\"T_223ba_row3_col0\" class=\"data row3 col0\" >3197201717725</td>\n",
              "      <td id=\"T_223ba_row3_col1\" class=\"data row3 col1\" ></td>\n",
              "      <td id=\"T_223ba_row3_col2\" class=\"data row3 col2\" ></td>\n",
              "      <td id=\"T_223ba_row3_col3\" class=\"data row3 col3\" >wait on cond</td>\n",
              "      <td id=\"T_223ba_row3_col4\" class=\"data row3 col4\" ></td>\n",
              "    </tr>\n",
              "    <tr>\n",
              "      <th id=\"T_223ba_level0_row4\" class=\"row_heading level0 row4\" >4</th>\n",
              "      <td id=\"T_223ba_row4_col0\" class=\"data row4 col0\" >3197201767225</td>\n",
              "      <td id=\"T_223ba_row4_col1\" class=\"data row4 col1\" ></td>\n",
              "      <td id=\"T_223ba_row4_col2\" class=\"data row4 col2\" >producer thread 1<br/>start</td>\n",
              "      <td id=\"T_223ba_row4_col3\" class=\"data row4 col3\" ></td>\n",
              "      <td id=\"T_223ba_row4_col4\" class=\"data row4 col4\" ></td>\n",
              "    </tr>\n",
              "    <tr>\n",
              "      <th id=\"T_223ba_level0_row5\" class=\"row_heading level0 row5\" >5</th>\n",
              "      <td id=\"T_223ba_row5_col0\" class=\"data row5 col0\" >3197201794224</td>\n",
              "      <td id=\"T_223ba_row5_col1\" class=\"data row5 col1\" ></td>\n",
              "      <td id=\"T_223ba_row5_col2\" class=\"data row5 col2\" >mutex locked</td>\n",
              "      <td id=\"T_223ba_row5_col3\" class=\"data row5 col3\" ></td>\n",
              "      <td id=\"T_223ba_row5_col4\" class=\"data row5 col4\" ></td>\n",
              "    </tr>\n",
              "    <tr>\n",
              "      <th id=\"T_223ba_level0_row6\" class=\"row_heading level0 row6\" >6</th>\n",
              "      <td id=\"T_223ba_row6_col0\" class=\"data row6 col0\" >3197201800009</td>\n",
              "      <td id=\"T_223ba_row6_col1\" class=\"data row6 col1\" ></td>\n",
              "      <td id=\"T_223ba_row6_col2\" class=\"data row6 col2\" >Two Produced</td>\n",
              "      <td id=\"T_223ba_row6_col3\" class=\"data row6 col3\" ></td>\n",
              "      <td id=\"T_223ba_row6_col4\" class=\"data row6 col4\" ></td>\n",
              "    </tr>\n",
              "    <tr>\n",
              "      <th id=\"T_223ba_level0_row7\" class=\"row_heading level0 row7\" >7</th>\n",
              "      <td id=\"T_223ba_row7_col0\" class=\"data row7 col0\" >3197201804625</td>\n",
              "      <td id=\"T_223ba_row7_col1\" class=\"data row7 col1\" ></td>\n",
              "      <td id=\"T_223ba_row7_col2\" class=\"data row7 col2\" ></td>\n",
              "      <td id=\"T_223ba_row7_col3\" class=\"data row7 col3\" ></td>\n",
              "      <td id=\"T_223ba_row7_col4\" class=\"data row7 col4\" >consumer thread 3<br/>start</td>\n",
              "    </tr>\n",
              "    <tr>\n",
              "      <th id=\"T_223ba_level0_row8\" class=\"row_heading level0 row8\" >8</th>\n",
              "      <td id=\"T_223ba_row8_col0\" class=\"data row8 col0\" >3197201822968</td>\n",
              "      <td id=\"T_223ba_row8_col1\" class=\"data row8 col1\" ></td>\n",
              "      <td id=\"T_223ba_row8_col2\" class=\"data row8 col2\" >cond signal</td>\n",
              "      <td id=\"T_223ba_row8_col3\" class=\"data row8 col3\" ></td>\n",
              "      <td id=\"T_223ba_row8_col4\" class=\"data row8 col4\" ></td>\n",
              "    </tr>\n",
              "    <tr>\n",
              "      <th id=\"T_223ba_level0_row9\" class=\"row_heading level0 row9\" >9</th>\n",
              "      <td id=\"T_223ba_row9_col0\" class=\"data row9 col0\" >3197201829149</td>\n",
              "      <td id=\"T_223ba_row9_col1\" class=\"data row9 col1\" ></td>\n",
              "      <td id=\"T_223ba_row9_col2\" class=\"data row9 col2\" >cond signal</td>\n",
              "      <td id=\"T_223ba_row9_col3\" class=\"data row9 col3\" ></td>\n",
              "      <td id=\"T_223ba_row9_col4\" class=\"data row9 col4\" ></td>\n",
              "    </tr>\n",
              "    <tr>\n",
              "      <th id=\"T_223ba_level0_row10\" class=\"row_heading level0 row10\" >10</th>\n",
              "      <td id=\"T_223ba_row10_col0\" class=\"data row10 col0\" >3197201838474</td>\n",
              "      <td id=\"T_223ba_row10_col1\" class=\"data row10 col1\" ></td>\n",
              "      <td id=\"T_223ba_row10_col2\" class=\"data row10 col2\" ></td>\n",
              "      <td id=\"T_223ba_row10_col3\" class=\"data row10 col3\" >cond wait end</td>\n",
              "      <td id=\"T_223ba_row10_col4\" class=\"data row10 col4\" ></td>\n",
              "    </tr>\n",
              "    <tr>\n",
              "      <th id=\"T_223ba_level0_row11\" class=\"row_heading level0 row11\" >11</th>\n",
              "      <td id=\"T_223ba_row11_col0\" class=\"data row11 col0\" >3197201842685</td>\n",
              "      <td id=\"T_223ba_row11_col1\" class=\"data row11 col1\" ></td>\n",
              "      <td id=\"T_223ba_row11_col2\" class=\"data row11 col2\" >mutex unlocked</td>\n",
              "      <td id=\"T_223ba_row11_col3\" class=\"data row11 col3\" ></td>\n",
              "      <td id=\"T_223ba_row11_col4\" class=\"data row11 col4\" ></td>\n",
              "    </tr>\n",
              "    <tr>\n",
              "      <th id=\"T_223ba_level0_row12\" class=\"row_heading level0 row12\" >12</th>\n",
              "      <td id=\"T_223ba_row12_col0\" class=\"data row12 col0\" >3197201863448</td>\n",
              "      <td id=\"T_223ba_row12_col1\" class=\"data row12 col1\" ></td>\n",
              "      <td id=\"T_223ba_row12_col2\" class=\"data row12 col2\" ></td>\n",
              "      <td id=\"T_223ba_row12_col3\" class=\"data row12 col3\" >consumed one</td>\n",
              "      <td id=\"T_223ba_row12_col4\" class=\"data row12 col4\" ></td>\n",
              "    </tr>\n",
              "    <tr>\n",
              "      <th id=\"T_223ba_level0_row13\" class=\"row_heading level0 row13\" >13</th>\n",
              "      <td id=\"T_223ba_row13_col0\" class=\"data row13 col0\" >3197201870209</td>\n",
              "      <td id=\"T_223ba_row13_col1\" class=\"data row13 col1\" ></td>\n",
              "      <td id=\"T_223ba_row13_col2\" class=\"data row13 col2\" ></td>\n",
              "      <td id=\"T_223ba_row13_col3\" class=\"data row13 col3\" >mutex_unlocked</td>\n",
              "      <td id=\"T_223ba_row13_col4\" class=\"data row13 col4\" ></td>\n",
              "    </tr>\n",
              "    <tr>\n",
              "      <th id=\"T_223ba_level0_row14\" class=\"row_heading level0 row14\" >14</th>\n",
              "      <td id=\"T_223ba_row14_col0\" class=\"data row14 col0\" >3197201872523</td>\n",
              "      <td id=\"T_223ba_row14_col1\" class=\"data row14 col1\" ></td>\n",
              "      <td id=\"T_223ba_row14_col2\" class=\"data row14 col2\" ></td>\n",
              "      <td id=\"T_223ba_row14_col3\" class=\"data row14 col3\" >consumer thread 2<br/>end</td>\n",
              "      <td id=\"T_223ba_row14_col4\" class=\"data row14 col4\" ></td>\n",
              "    </tr>\n",
              "    <tr>\n",
              "      <th id=\"T_223ba_level0_row15\" class=\"row_heading level0 row15\" >15</th>\n",
              "      <td id=\"T_223ba_row15_col0\" class=\"data row15 col0\" >3197201893073</td>\n",
              "      <td id=\"T_223ba_row15_col1\" class=\"data row15 col1\" ></td>\n",
              "      <td id=\"T_223ba_row15_col2\" class=\"data row15 col2\" >producer thread 1<br/>end</td>\n",
              "      <td id=\"T_223ba_row15_col3\" class=\"data row15 col3\" ></td>\n",
              "      <td id=\"T_223ba_row15_col4\" class=\"data row15 col4\" ></td>\n",
              "    </tr>\n",
              "    <tr>\n",
              "      <th id=\"T_223ba_level0_row16\" class=\"row_heading level0 row16\" >16</th>\n",
              "      <td id=\"T_223ba_row16_col0\" class=\"data row16 col0\" >3197201981876</td>\n",
              "      <td id=\"T_223ba_row16_col1\" class=\"data row16 col1\" ></td>\n",
              "      <td id=\"T_223ba_row16_col2\" class=\"data row16 col2\" ></td>\n",
              "      <td id=\"T_223ba_row16_col3\" class=\"data row16 col3\" ></td>\n",
              "      <td id=\"T_223ba_row16_col4\" class=\"data row16 col4\" >mutex locked</td>\n",
              "    </tr>\n",
              "    <tr>\n",
              "      <th id=\"T_223ba_level0_row17\" class=\"row_heading level0 row17\" >17</th>\n",
              "      <td id=\"T_223ba_row17_col0\" class=\"data row17 col0\" >3197201996314</td>\n",
              "      <td id=\"T_223ba_row17_col1\" class=\"data row17 col1\" ></td>\n",
              "      <td id=\"T_223ba_row17_col2\" class=\"data row17 col2\" ></td>\n",
              "      <td id=\"T_223ba_row17_col3\" class=\"data row17 col3\" ></td>\n",
              "      <td id=\"T_223ba_row17_col4\" class=\"data row17 col4\" >wait on cond</td>\n",
              "    </tr>\n",
              "  </tbody>\n",
              "</table>\n"
            ]
          },
          "metadata": {},
          "execution_count": 76
        }
      ]
    }
  ]
}